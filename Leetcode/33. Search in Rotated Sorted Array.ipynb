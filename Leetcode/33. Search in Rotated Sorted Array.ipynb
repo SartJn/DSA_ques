{
 "cells": [
  {
   "cell_type": "code",
   "execution_count": null,
   "metadata": {},
   "outputs": [],
   "source": [
    "left = 0\n",
    "right = len(nums)-1\n",
    "mid = right//2\n",
    "\n",
    "while left <= right:\n",
    "    mid = left + (right-left)//2\n",
    "\n",
    "    if nums[mid] == target:\n",
    "        return mid\n",
    "\n",
    "    if nums[mid] < nums[right]:\n",
    "        if nums[mid] <= target <= nums[right]:\n",
    "            left = mid + 1\n",
    "        else:\n",
    "            right = mid - 1\n",
    "\n",
    "    else:\n",
    "        if nums[mid] >= target >= nums[left]:\n",
    "            right = mid - 1\n",
    "        else:\n",
    "            left = mid + 1\n",
    "    \n",
    "return -1"
   ]
  }
 ],
 "metadata": {
  "language_info": {
   "name": "python"
  }
 },
 "nbformat": 4,
 "nbformat_minor": 2
}

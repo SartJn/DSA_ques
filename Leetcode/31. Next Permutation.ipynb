{
 "cells": [
  {
   "cell_type": "code",
   "execution_count": null,
   "metadata": {},
   "outputs": [],
   "source": [
    "n = len(nums)        \n",
    "i = n - 1\n",
    "j = i - 1\n",
    "point = -1\n",
    "while j >= 0:\n",
    "    if nums[j] < nums[i]:\n",
    "        point = j\n",
    "        break\n",
    "    j -= 1\n",
    "    i -= 1\n",
    "if point == -1:\n",
    "    return nums.sort()\n",
    "else:\n",
    "    k = n - 1\n",
    "    while k >= 0:\n",
    "        if nums[k] > nums[point]:\n",
    "            nums[k], nums[point] = nums[point], nums[k]\n",
    "            break\n",
    "        k -= 1\n",
    "    nums[:] = nums[:point+1] + nums[point+1:][::-1]"
   ]
  }
 ],
 "metadata": {
  "language_info": {
   "name": "python"
  }
 },
 "nbformat": 4,
 "nbformat_minor": 2
}

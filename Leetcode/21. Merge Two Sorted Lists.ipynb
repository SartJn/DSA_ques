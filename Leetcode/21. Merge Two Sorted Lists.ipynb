{
 "cells": [
  {
   "cell_type": "code",
   "execution_count": null,
   "metadata": {},
   "outputs": [],
   "source": [
    "ret = curr = ListNode()\n",
    "while list1 and list2:\n",
    "    if list1.val < list2.val:\n",
    "        curr.next = list1\n",
    "        list1 = list1.next\n",
    "    else:\n",
    "        curr.next = list2\n",
    "        list2 = list2.next\n",
    "    curr = curr.next\n",
    "curr.next = list1 or list2\n",
    "return ret.next"
   ]
  }
 ],
 "metadata": {
  "language_info": {
   "name": "python"
  }
 },
 "nbformat": 4,
 "nbformat_minor": 2
}

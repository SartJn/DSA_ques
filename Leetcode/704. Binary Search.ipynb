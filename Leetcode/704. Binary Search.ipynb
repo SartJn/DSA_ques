{
 "cells": [
  {
   "cell_type": "code",
   "execution_count": null,
   "metadata": {},
   "outputs": [],
   "source": [
    "n = len(nums)\n",
    "left = 0\n",
    "right = n-1\n",
    "\n",
    "while left <= right:\n",
    "    mid = right-left // 2\n",
    "    if nums[mid] == target:\n",
    "        return mid\n",
    "    elif nums[mid] > target:\n",
    "        right = mid-1\n",
    "    else:\n",
    "        left = mid+1\n",
    "return -1  "
   ]
  }
 ],
 "metadata": {
  "language_info": {
   "name": "python"
  }
 },
 "nbformat": 4,
 "nbformat_minor": 2
}

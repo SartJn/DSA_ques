{
 "cells": [
  {
   "cell_type": "code",
   "execution_count": null,
   "metadata": {},
   "outputs": [],
   "source": [
    "maxSum = float(\"-inf\")\n",
    "curSum = 0\n",
    "for i in range(len(nums)):\n",
    "    curSum += nums[i]\n",
    "    maxSum = max(curSum, maxSum)\n",
    "    if curSum < 0:\n",
    "        curSum = 0\n",
    "return maxSum"
   ]
  }
 ],
 "metadata": {
  "language_info": {
   "name": "python"
  }
 },
 "nbformat": 4,
 "nbformat_minor": 2
}

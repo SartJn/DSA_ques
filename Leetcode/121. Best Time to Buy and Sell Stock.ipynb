{
 "cells": [
  {
   "cell_type": "code",
   "execution_count": null,
   "metadata": {},
   "outputs": [],
   "source": [
    "prof = 0\n",
    "buy = prices[0]\n",
    "i = 1\n",
    "while i < len(prices):\n",
    "    if buy > prices[i]:\n",
    "        buy = prices[i]\n",
    "    prof = max(prof, prices[i]-buy)\n",
    "    i += 1\n",
    "\n",
    "return prof "
   ]
  }
 ],
 "metadata": {
  "language_info": {
   "name": "python"
  }
 },
 "nbformat": 4,
 "nbformat_minor": 2
}

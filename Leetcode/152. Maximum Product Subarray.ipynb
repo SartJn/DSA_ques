{
 "cells": [
  {
   "cell_type": "code",
   "execution_count": null,
   "metadata": {},
   "outputs": [],
   "source": [
    "if len(nums) == 1:\n",
    "    return nums[0]\n",
    "maxProd = maxProd1 = maxProd2 = max(nums)\n",
    "\n",
    "curProd1 = 1\n",
    "for i in range(len(nums)):\n",
    "    curProd1 *= nums[i]\n",
    "    maxProd1 = max(curProd1, maxProd1)\n",
    "    if curProd1 == 0:\n",
    "        curProd1 = 1\n",
    "\n",
    "curProd2 = 1\n",
    "i = len(nums)-1\n",
    "while i > 0:\n",
    "    curProd2 *= nums[i]\n",
    "    maxProd2 = max(curProd2, maxProd2)\n",
    "    if curProd2 == 0:\n",
    "        curProd2 = 1\n",
    "    i -= 1\n",
    "\n",
    "return max(maxProd1, maxProd2)"
   ]
  }
 ],
 "metadata": {
  "language_info": {
   "name": "python"
  }
 },
 "nbformat": 4,
 "nbformat_minor": 2
}

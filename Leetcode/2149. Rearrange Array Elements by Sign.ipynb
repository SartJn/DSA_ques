{
 "cells": [
  {
   "cell_type": "code",
   "execution_count": null,
   "metadata": {},
   "outputs": [],
   "source": [
    "pos = []\n",
    "neg = []\n",
    "for ele in nums:\n",
    "    if ele > 0:\n",
    "        pos.append(ele)\n",
    "    else:\n",
    "        neg.append(ele)\n",
    "\n",
    "i = 0\n",
    "res = []\n",
    "while i < len(pos):\n",
    "    res.append(pos[i])\n",
    "    res.append(neg[i])\n",
    "    i += 1\n",
    "\n",
    "return res"
   ]
  }
 ],
 "metadata": {
  "language_info": {
   "name": "python"
  }
 },
 "nbformat": 4,
 "nbformat_minor": 2
}

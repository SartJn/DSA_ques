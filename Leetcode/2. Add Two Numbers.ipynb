{
 "cells": [
  {
   "cell_type": "code",
   "execution_count": null,
   "metadata": {},
   "outputs": [],
   "source": [
    "res = curr = ListNode()\n",
    "carry = 0\n",
    "add = 0\n",
    "while l1 or l2 or carry:\n",
    "    add = carry\n",
    "    if l1:\n",
    "        add += l1.val\n",
    "        l1 = l1.next\n",
    "    if l2:\n",
    "        add += l2.val\n",
    "        l2 = l2.next\n",
    "\n",
    "    carry = add // 10\n",
    "    add = add % 10\n",
    "    newN = ListNode(add)\n",
    "    curr.next = newN\n",
    "    curr = curr.next\n",
    "return res.next"
   ]
  }
 ],
 "metadata": {
  "language_info": {
   "name": "python"
  }
 },
 "nbformat": 4,
 "nbformat_minor": 2
}

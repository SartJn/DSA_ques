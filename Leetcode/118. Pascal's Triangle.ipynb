{
 "cells": [
  {
   "cell_type": "code",
   "execution_count": null,
   "metadata": {},
   "outputs": [],
   "source": [
    "if numRows == 0:\n",
    "    return\n",
    "if numRows == 1:\n",
    "    return [[1]]\n",
    "if numRows == 2:\n",
    "    return [[1], [1,1]]\n",
    "\n",
    "res = [[1], [1,1]]\n",
    "count = 2\n",
    "i = 1\n",
    "j = 1\n",
    "temp = [1]\n",
    "while i < numRows-1:\n",
    "    j = 1\n",
    "    temp = [1]\n",
    "    while j < len(res[i]):\n",
    "        temp.append(res[i][j] + res[i][j-1])\n",
    "        j += 1\n",
    "    temp.append(1)\n",
    "    res.append(temp)\n",
    "    i += 1\n",
    "return res"
   ]
  }
 ],
 "metadata": {
  "language_info": {
   "name": "python"
  }
 },
 "nbformat": 4,
 "nbformat_minor": 2
}

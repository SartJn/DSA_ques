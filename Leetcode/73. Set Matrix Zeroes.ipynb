{
 "cells": [
  {
   "cell_type": "code",
   "execution_count": null,
   "metadata": {},
   "outputs": [],
   "source": [
    "m = len(matrix)\n",
    "n = len(matrix[0])\n",
    "dict = []\n",
    "for i in range(m):\n",
    "    for j in range(n):\n",
    "        if matrix[i][j] == 0:\n",
    "            dict.append((i,j))\n",
    "\n",
    "for i,j in dict:\n",
    "    matrix[i] = [0]*n\n",
    "    for i in range(m):\n",
    "        matrix[i][j] = 0"
   ]
  }
 ],
 "metadata": {
  "language_info": {
   "name": "python"
  }
 },
 "nbformat": 4,
 "nbformat_minor": 2
}

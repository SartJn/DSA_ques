{
 "cells": [
  {
   "cell_type": "code",
   "execution_count": null,
   "metadata": {},
   "outputs": [],
   "source": [
    "ans = []\n",
    "def trav(root):\n",
    "    if root == None:\n",
    "        return ans\n",
    "    trav(root.left)\n",
    "    trav(root.right)\n",
    "    ans.append(root.val)\n",
    "    return ans\n",
    "return trav(root)"
   ]
  }
 ],
 "metadata": {
  "language_info": {
   "name": "python"
  }
 },
 "nbformat": 4,
 "nbformat_minor": 2
}

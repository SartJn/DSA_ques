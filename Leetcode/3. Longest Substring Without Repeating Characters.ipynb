{
 "cells": [
  {
   "cell_type": "code",
   "execution_count": null,
   "metadata": {},
   "outputs": [],
   "source": [
    "dic = set()\n",
    "i = 0\n",
    "j = 0\n",
    "count = 0\n",
    "while j < len(s):\n",
    "    if s[j] in dic:\n",
    "        while s[j] in dic:\n",
    "            dic.remove(s[i])\n",
    "            i += 1\n",
    "        dic.add(s[j])\n",
    "    else:\n",
    "        dic.add(s[j])\n",
    "        count = max(j - i + 1, count)\n",
    "    j += 1\n",
    "return count if count > 0 else len(s)"
   ]
  }
 ],
 "metadata": {
  "language_info": {
   "name": "python"
  }
 },
 "nbformat": 4,
 "nbformat_minor": 2
}

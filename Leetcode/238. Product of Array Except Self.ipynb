{
 "cells": [
  {
   "cell_type": "code",
   "execution_count": 28,
   "metadata": {},
   "outputs": [
    {
     "data": {
      "text/plain": [
       "[24, 12, 8, 6]"
      ]
     },
     "execution_count": 28,
     "metadata": {},
     "output_type": "execute_result"
    }
   ],
   "source": [
    "n = len(nums)\n",
    "ans = [1] * n\n",
    "prefix = [1] * n\n",
    "suffix = [1] * n\n",
    "        \n",
    "#Prefix\n",
    "i = 1\n",
    "while i < n:\n",
    "    prefix[i] = prefix[i-1] * nums[i-1]\n",
    "    i += 1\n",
    "\n",
    "#Suffix and ans\n",
    "i = n - 2\n",
    "while i > -1:\n",
    "    suffix[i] = suffix[i+1] * nums[i+1]\n",
    "    ans[i] = prefix[i] * suffix[i]\n",
    "    i -= 1\n",
    "ans[n-1] = prefix[n-1] * suffix[n-1]\n",
    "ans"
   ]
  },
  {
   "cell_type": "code",
   "execution_count": null,
   "metadata": {},
   "outputs": [],
   "source": []
  },
  {
   "cell_type": "code",
   "execution_count": null,
   "metadata": {},
   "outputs": [],
   "source": []
  }
 ],
 "metadata": {
  "kernelspec": {
   "display_name": "base",
   "language": "python",
   "name": "python3"
  },
  "language_info": {
   "codemirror_mode": {
    "name": "ipython",
    "version": 3
   },
   "file_extension": ".py",
   "mimetype": "text/x-python",
   "name": "python",
   "nbconvert_exporter": "python",
   "pygments_lexer": "ipython3",
   "version": "3.11.9"
  }
 },
 "nbformat": 4,
 "nbformat_minor": 2
}

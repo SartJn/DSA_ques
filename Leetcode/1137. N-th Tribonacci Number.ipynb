{
 "cells": [
  {
   "cell_type": "code",
   "execution_count": null,
   "metadata": {},
   "outputs": [],
   "source": [
    "t0 = 0\n",
    "t1 = 1\n",
    "t2 = 1\n",
    "if n == 0:\n",
    "    return 0\n",
    "if n == 1:\n",
    "    return 1\n",
    "if n == 2:\n",
    "    return 1\n",
    "\n",
    "count = 2\n",
    "while count < n:\n",
    "    t3 = t0 + t1 + t2\n",
    "    count += 1\n",
    "    t0, t1, t2 = t1, t2, t3\n",
    "\n",
    "return t3"
   ]
  }
 ],
 "metadata": {
  "language_info": {
   "name": "python"
  }
 },
 "nbformat": 4,
 "nbformat_minor": 2
}

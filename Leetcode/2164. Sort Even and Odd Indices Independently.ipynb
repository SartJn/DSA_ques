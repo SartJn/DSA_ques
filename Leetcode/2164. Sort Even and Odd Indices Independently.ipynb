{
 "cells": [
  {
   "cell_type": "code",
   "execution_count": null,
   "metadata": {},
   "outputs": [],
   "source": [
    "odd = []\n",
    "even = []\n",
    "for i in range(len(nums)):\n",
    "    if i % 2 == 0:\n",
    "        even.append(nums[i])\n",
    "    else:\n",
    "        odd.append(nums[i])\n",
    "    \n",
    "odd.sort(reverse = True)\n",
    "even.sort()\n",
    "\n",
    "i = 0\n",
    "res = []\n",
    "while i < min(len(odd), len(even)):\n",
    "    res.append(even[i])\n",
    "    res.append(odd[i])\n",
    "    i += 1\n",
    "\n",
    "if len(odd) > len(even):\n",
    "    res.append(odd[-1])\n",
    "elif len(even) > len(odd):\n",
    "    res.append(even[-1])\n",
    "\n",
    "return res"
   ]
  }
 ],
 "metadata": {
  "language_info": {
   "name": "python"
  }
 },
 "nbformat": 4,
 "nbformat_minor": 2
}

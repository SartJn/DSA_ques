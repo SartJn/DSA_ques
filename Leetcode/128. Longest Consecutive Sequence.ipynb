{
 "cells": [
  {
   "cell_type": "code",
   "execution_count": null,
   "metadata": {},
   "outputs": [],
   "source": [
    "if len(nums) <= 1:\n",
    "    return len(nums)\n",
    "curr = 1\n",
    "maxx = 1\n",
    "s = set(nums)\n",
    "for i in s:\n",
    "    if i-1 not in s:\n",
    "        curr = 1\n",
    "        while i + curr in s:\n",
    "            curr += 1\n",
    "        maxx = max(maxx, curr)\n",
    "return maxx "
   ]
  }
 ],
 "metadata": {
  "language_info": {
   "name": "python"
  }
 },
 "nbformat": 4,
 "nbformat_minor": 2
}

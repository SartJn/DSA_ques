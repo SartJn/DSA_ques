{
 "cells": [
  {
   "cell_type": "code",
   "execution_count": null,
   "metadata": {},
   "outputs": [],
   "source": [
    "left = 0\n",
    "right = len(nums)-1\n",
    "mid = right//2\n",
    "curmin = minn = nums[mid]\n",
    "while left < right:\n",
    "    if nums[mid] < nums[right]:\n",
    "        right = mid\n",
    "    else:\n",
    "        left = mid+1\n",
    "    mid = left + (right-left) // 2\n",
    "    curmin = nums[mid]\n",
    "    minn = min(curmin, minn)\n",
    "    \n",
    "\n",
    "return minn\n",
    "\n"
   ]
  }
 ],
 "metadata": {
  "language_info": {
   "name": "python"
  }
 },
 "nbformat": 4,
 "nbformat_minor": 2
}

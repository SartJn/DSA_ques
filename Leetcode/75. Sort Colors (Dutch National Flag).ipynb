{
 "cells": [
  {
   "cell_type": "markdown",
   "metadata": {},
   "source": [
    "Leetcode question no. 75: Sort Colors"
   ]
  },
  {
   "cell_type": "code",
   "execution_count": 2,
   "metadata": {},
   "outputs": [],
   "source": [
    "nums = [2,2, 1, 0]\n",
    "\n",
    "zeroList = []\n",
    "oneList = []\n",
    "twoList = []\n",
    "i = 0\n",
    "\n",
    "while i < len(nums):\n",
    "    if nums[i] == 0:\n",
    "        zeroList.append(nums[i])\n",
    "    elif nums[i] == 1:\n",
    "        oneList.append(nums[i])\n",
    "    else:\n",
    "        twoList.append(nums[i])\n",
    "    i += 1\n",
    "nums.clear()\n",
    "nums += zeroList\n",
    "nums += oneList\n",
    "nums += twoList"
   ]
  },
  {
   "cell_type": "code",
   "execution_count": null,
   "metadata": {},
   "outputs": [],
   "source": []
  }
 ],
 "metadata": {
  "kernelspec": {
   "display_name": "base",
   "language": "python",
   "name": "python3"
  },
  "language_info": {
   "codemirror_mode": {
    "name": "ipython",
    "version": 3
   },
   "file_extension": ".py",
   "mimetype": "text/x-python",
   "name": "python",
   "nbconvert_exporter": "python",
   "pygments_lexer": "ipython3",
   "version": "3.11.5"
  }
 },
 "nbformat": 4,
 "nbformat_minor": 2
}

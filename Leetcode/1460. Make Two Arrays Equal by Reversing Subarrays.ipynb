{
 "cells": [
  {
   "cell_type": "code",
   "execution_count": null,
   "metadata": {},
   "outputs": [],
   "source": [
    "target = sorted(target)\n",
    "arr = sorted(arr)\n",
    "\n",
    "tar = {}\n",
    "ar = {}\n",
    "i = 0\n",
    "while i < len(arr):\n",
    "    if target[i] not in tar:\n",
    "        tar[target[i]] = 1\n",
    "    else:\n",
    "        tar[target[i]] += 1\n",
    "    if arr[i] not in ar:\n",
    "        ar[arr[i]] = 1\n",
    "    else:\n",
    "        ar[arr[i]] += 1\n",
    "    i += 1\n",
    "\n",
    "return tar == ar"
   ]
  }
 ],
 "metadata": {
  "language_info": {
   "name": "python"
  }
 },
 "nbformat": 4,
 "nbformat_minor": 2
}

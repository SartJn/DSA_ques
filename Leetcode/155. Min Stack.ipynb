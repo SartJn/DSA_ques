{
 "cells": [
  {
   "cell_type": "code",
   "execution_count": null,
   "metadata": {},
   "outputs": [],
   "source": [
    "def __init__(self):\n",
    "    self.st = []\n",
    "\n",
    "def push(self, val: int) -> None:\n",
    "    self.st.append(val)\n",
    "\n",
    "def pop(self) -> None:\n",
    "    del self.st[-1]\n",
    "\n",
    "def top(self) -> int:\n",
    "    return self.st[-1]\n",
    "    \n",
    "\n",
    "def getMin(self) -> int:\n",
    "    return min(self.st)"
   ]
  }
 ],
 "metadata": {
  "language_info": {
   "name": "python"
  }
 },
 "nbformat": 4,
 "nbformat_minor": 2
}

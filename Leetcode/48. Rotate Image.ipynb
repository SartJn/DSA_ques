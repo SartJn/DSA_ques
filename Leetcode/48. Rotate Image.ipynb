{
 "cells": [
  {
   "cell_type": "code",
   "execution_count": null,
   "metadata": {},
   "outputs": [],
   "source": [
    "m = len(matrix)\n",
    "top = 0\n",
    "bottom = m-1\n",
    "\n",
    "while top < bottom:\n",
    "    matrix[top], matrix[bottom] = matrix[bottom], matrix[top]\n",
    "    top += 1\n",
    "    bottom -= 1\n",
    "\n",
    "for row in range(m):\n",
    "    for col in range(row+1, m):\n",
    "        matrix[row][col], matrix[col][row] = matrix[col][row], matrix[row][col]\n",
    "return matrix"
   ]
  }
 ],
 "metadata": {
  "language_info": {
   "name": "python"
  }
 },
 "nbformat": 4,
 "nbformat_minor": 2
}

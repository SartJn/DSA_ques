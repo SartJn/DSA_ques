{
 "cells": [
  {
   "cell_type": "code",
   "execution_count": null,
   "metadata": {},
   "outputs": [],
   "source": [
    "i = 0\n",
    "j = len(s) -1\n",
    "while i < j:\n",
    "    s[i], s[j] = s[j], s[i]\n",
    "    i += 1\n",
    "    j -= 1\n",
    "        "
   ]
  }
 ],
 "metadata": {
  "language_info": {
   "name": "python"
  }
 },
 "nbformat": 4,
 "nbformat_minor": 2
}

{
 "cells": [
  {
   "cell_type": "code",
   "execution_count": null,
   "metadata": {},
   "outputs": [],
   "source": [
    "if len(intervals) <= 1:\n",
    "    return intervals\n",
    "res = []\n",
    "intervals.sort()\n",
    "prev = intervals[0]\n",
    "for ele in intervals[1:]:\n",
    "    if ele[0] <= prev[1]:\n",
    "        if ele[1] <= prev[1]:\n",
    "            pass\n",
    "        else:\n",
    "            prev[1] = ele[1]\n",
    "    else:\n",
    "        res.append(prev)\n",
    "        prev = ele\n",
    "res.append(prev)\n",
    "return res"
   ]
  }
 ],
 "metadata": {
  "language_info": {
   "name": "python"
  }
 },
 "nbformat": 4,
 "nbformat_minor": 2
}

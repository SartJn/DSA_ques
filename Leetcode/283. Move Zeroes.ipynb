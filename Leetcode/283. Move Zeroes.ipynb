{
 "cells": [
  {
   "cell_type": "code",
   "execution_count": null,
   "metadata": {},
   "outputs": [],
   "source": [
    "n = len(nums)\n",
    "i = 0\n",
    "count = 0\n",
    "while count < n:\n",
    "    if nums[i] == 0:\n",
    "        nums.append(0)\n",
    "        nums.pop(i)\n",
    "    else:\n",
    "        i += 1\n",
    "    count += 1\n",
    "return nums\n"
   ]
  }
 ],
 "metadata": {
  "language_info": {
   "name": "python"
  }
 },
 "nbformat": 4,
 "nbformat_minor": 2
}
